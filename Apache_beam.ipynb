{
  "nbformat": 4,
  "nbformat_minor": 0,
  "metadata": {
    "colab": {
      "provenance": [],
      "authorship_tag": "ABX9TyPoAhVLt0ECnnutKsbbmFL5",
      "include_colab_link": true
    },
    "kernelspec": {
      "name": "python3",
      "display_name": "Python 3"
    },
    "language_info": {
      "name": "python"
    }
  },
  "cells": [
    {
      "cell_type": "markdown",
      "metadata": {
        "id": "view-in-github",
        "colab_type": "text"
      },
      "source": [
        "<a href=\"https://colab.research.google.com/github/NickKornienko/CMPE-255-Assignment-4/blob/main/Apache_beam.ipynb\" target=\"_parent\"><img src=\"https://colab.research.google.com/assets/colab-badge.svg\" alt=\"Open In Colab\"/></a>"
      ]
    },
    {
      "cell_type": "code",
      "execution_count": null,
      "metadata": {
        "id": "-xRIsUEUXC04"
      },
      "outputs": [],
      "source": [
        "!pip install apache-beam[interactive]"
      ]
    },
    {
      "cell_type": "markdown",
      "source": [
        "\n",
        "Composite Transform:\n",
        "\n",
        "The entire pipeline from reading the CSV to writing the results is a composite transform.\n",
        "\n",
        "Pipline IO:\n",
        "\n",
        "Demonstrated by:\n",
        "ReadFromText('/content/Iris.csv'): This reads the Iris dataset from the provided CSV file.\n",
        "WriteToText('/content/output.txt'): This writes the results of the pipeline to a text file.\n",
        "\n",
        "ParDo:\n",
        "\n",
        "Demonstrated by:\n",
        "beam.ParDo(ExtractSpeciesFn()): This applies the ExtractSpeciesFn class to each element of the input PCollection."
      ],
      "metadata": {
        "id": "LTI0GIHKTodc"
      }
    },
    {
      "cell_type": "code",
      "source": [
        "# Import necessary libraries\n",
        "import apache_beam as beam\n",
        "from apache_beam.options.pipeline_options import PipelineOptions\n",
        "from apache_beam.io import ReadFromText, WriteToText\n",
        "from apache_beam.transforms.combiners import Count\n",
        "\n",
        "# Define the ParDo function to extract species and petal length\n",
        "class ExtractSpeciesFn(beam.DoFn):\n",
        "    def process(self, element):\n",
        "        # Splitting by commas to extract values\n",
        "        parts = element.split(',')\n",
        "        # Check for header using a different column since 'Species' can also appear as data\n",
        "        if parts[2] != 'SepalWidthCm':  # Ignore header\n",
        "            yield (parts[4], float(parts[2]))\n",
        "\n",
        "# Define the pipeline\n",
        "def run_pipeline():\n",
        "    options = PipelineOptions(flags=['--allow_unsafe_triggers'])\n",
        "    with beam.Pipeline(options=options) as p:\n",
        "        # Reading the CSV\n",
        "        (p\n",
        "         | \"Read CSV\" >> ReadFromText('/content/Iris.csv')\n",
        "         | \"Extract Species and Petal Length\" >> beam.ParDo(ExtractSpeciesFn())\n",
        "         | \"Count Species\" >> Count.PerKey()\n",
        "         | \"Write to File\" >> WriteToText('/content/output.txt'))\n",
        "\n",
        "# Run the pipeline\n",
        "run_pipeline()\n",
        "\n",
        "# Display the output\n",
        "!cat /content/output.txt"
      ],
      "metadata": {
        "colab": {
          "base_uri": "https://localhost:8080/"
        },
        "id": "BgcsuQxfQRol",
        "outputId": "2b9c4767-3b1e-4bb5-a712-7ab49d8815e1"
      },
      "execution_count": 22,
      "outputs": [
        {
          "output_type": "stream",
          "name": "stderr",
          "text": [
            "WARNING:apache_beam.io.filebasedsink:Deleting 1 existing files in target path matching: -*-of-%(num_shards)05d\n"
          ]
        },
        {
          "output_type": "stream",
          "name": "stdout",
          "text": [
            "cat: /content/output.txt: No such file or directory\n"
          ]
        }
      ]
    },
    {
      "cell_type": "markdown",
      "source": [
        "We treat the row number as a \"timestamp\" to apply windowing and triggers, even though in a real-world scenario these features are more relevant for streaming data.\n",
        "\n",
        "Windowing: We use fixed windows, each window containing a set number of rows\n",
        "\n",
        "Triggers: We use an AfterCount trigger to emit results after a certain number of rows are processed."
      ],
      "metadata": {
        "id": "vplguZDNUKCA"
      }
    },
    {
      "cell_type": "code",
      "source": [
        "# Import necessary libraries\n",
        "import apache_beam as beam\n",
        "from apache_beam.options.pipeline_options import PipelineOptions\n",
        "from apache_beam.io import ReadFromText, WriteToText\n",
        "from apache_beam.transforms.combiners import Count\n",
        "from apache_beam.transforms import window, trigger\n",
        "\n",
        "# Define the ParDo function to extract species and petal length\n",
        "class ExtractSpeciesFn(beam.DoFn):\n",
        "    def process(self, element, window=beam.DoFn.WindowParam):\n",
        "        # Splitting by commas to extract values\n",
        "        parts = element.split(',')\n",
        "        # Check for header using a different column since 'Species' can also appear as data\n",
        "        if parts[2] != 'SepalWidthCm':  # Ignore header\n",
        "            # Using row number as pseudo-timestamp for windowing\n",
        "            yield beam.window.TimestampedValue((parts[4], float(parts[2])), int(parts[0]))\n",
        "\n",
        "# Define the pipeline\n",
        "def run_pipeline():\n",
        "    options = PipelineOptions(flags=['--allow_unsafe_triggers'])\n",
        "    with beam.Pipeline(options=options) as p:\n",
        "        # Reading the CSV\n",
        "        (p\n",
        "         | \"Read CSV\" >> ReadFromText('/content/Iris.csv')\n",
        "         | \"Extract Species and Petal Length\" >> beam.ParDo(ExtractSpeciesFn())\n",
        "         | \"Window into Fixed Windows\" >> beam.WindowInto(window.FixedWindows(50),\n",
        "                                                          trigger=trigger.AfterCount(25),\n",
        "                                                          accumulation_mode=trigger.AccumulationMode.DISCARDING)\n",
        "         | \"Count Species in Window\" >> Count.PerKey()\n",
        "         | \"Write to File\" >> WriteToText('/content/windowed_output.txt'))\n",
        "\n",
        "# Run the pipeline\n",
        "run_pipeline()\n",
        "\n",
        "# Display the output\n",
        "!cat /content/windowed_output.txt"
      ],
      "metadata": {
        "colab": {
          "base_uri": "https://localhost:8080/"
        },
        "id": "aVoQj62ZUlpq",
        "outputId": "ce41938f-4f2d-48de-d973-4aaf456b900c"
      },
      "execution_count": 21,
      "outputs": [
        {
          "output_type": "stream",
          "name": "stderr",
          "text": [
            "WARNING:apache_beam.transforms.core:GroupByKey: Unsafe trigger `AfterCount(25)` detected (reason: MAY_FINISH). This is being allowed because --allow_unsafe_triggers is set. This could lead to missing or incomplete groups.\n"
          ]
        },
        {
          "output_type": "stream",
          "name": "stdout",
          "text": [
            "cat: /content/windowed_output.txt: No such file or directory\n"
          ]
        }
      ]
    }
  ]
}